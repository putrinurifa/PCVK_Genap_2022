{
  "nbformat": 4,
  "nbformat_minor": 0,
  "metadata": {
    "colab": {
      "name": "Week5.ipynb",
      "provenance": [],
      "authorship_tag": "ABX9TyN0fQWEf8/GAQPRJHeMy/bq",
      "include_colab_link": true
    },
    "kernelspec": {
      "name": "python3",
      "display_name": "Python 3"
    },
    "language_info": {
      "name": "python"
    }
  },
  "cells": [
    {
      "cell_type": "markdown",
      "metadata": {
        "id": "view-in-github",
        "colab_type": "text"
      },
      "source": [
        "<a href=\"https://colab.research.google.com/github/putrinurifa/PCVK_Genap_2022/blob/main/Week5.ipynb\" target=\"_parent\"><img src=\"https://colab.research.google.com/assets/colab-badge.svg\" alt=\"Open In Colab\"/></a>"
      ]
    },
    {
      "cell_type": "markdown",
      "source": [
        "PUTRI NURIFA FIRDAUSIA\n",
        "\n",
        "TI-3G\n",
        "\n",
        "1941720036"
      ],
      "metadata": {
        "id": "lEtam1LfwrBK"
      }
    },
    {
      "cell_type": "code",
      "execution_count": null,
      "metadata": {
        "id": "o0LYfpDAwXTs"
      },
      "outputs": [],
      "source": [
        ""
      ]
    }
  ]
}